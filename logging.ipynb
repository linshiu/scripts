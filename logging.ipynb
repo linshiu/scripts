{
 "cells": [
  {
   "cell_type": "markdown",
   "metadata": {},
   "source": [
    "# Logging"
   ]
  },
  {
   "cell_type": "markdown",
   "metadata": {},
   "source": [
    "* Note: **tail -f logfile.txt** in command line shows the file as it is being written to"
   ]
  },
  {
   "cell_type": "markdown",
   "metadata": {},
   "source": [
    "## A. Setup log from script"
   ]
  },
  {
   "cell_type": "markdown",
   "metadata": {},
   "source": [
    "### 1. Setup script by adding console and file handler"
   ]
  },
  {
   "cell_type": "code",
   "execution_count": 2,
   "metadata": {
    "collapsed": false
   },
   "outputs": [],
   "source": [
    "import logging\n",
    "\n",
    "logger1 = logging.getLogger()\n",
    "\n",
    "logger1.setLevel(logging.DEBUG)\n",
    "\n",
    "formatter = logging.Formatter('%(asctime)s - %(name)s - %(levelname)s - %(message)s')\n",
    "\n",
    "fh = logging.FileHandler('log_filename.txt', mode = 'w')\n",
    "fh.setLevel(logging.DEBUG)\n",
    "fh.setFormatter(formatter)\n",
    "logger1.addHandler(fh)\n",
    "\n",
    "ch = logging.StreamHandler()\n",
    "ch.setLevel(logging.INFO)\n",
    "ch.setFormatter(formatter)\n",
    "logger1.addHandler(ch)"
   ]
  },
  {
   "cell_type": "markdown",
   "metadata": {},
   "source": [
    "### 2. Sample log"
   ]
  },
  {
   "cell_type": "markdown",
   "metadata": {},
   "source": [
    "Note: messages with levels lower than warning will not show in console, but will do in file log"
   ]
  },
  {
   "cell_type": "code",
   "execution_count": 3,
   "metadata": {
    "collapsed": false
   },
   "outputs": [
    {
     "name": "stderr",
     "output_type": "stream",
     "text": [
      "2016-05-12 23:20:01,292 - root - INFO - This is a test log message. info\n",
      "2016-05-12 23:20:01,294 - root - WARNING - This is a test log message. warn\n"
     ]
    }
   ],
   "source": [
    "logger1.debug('This is a test log message. {t}'.format(t = \"debug\"))\n",
    "logger1.info('This is a test log message. {t}'.format(t = \"info\"))\n",
    "logger1.warning('This is a test log message. {t}'.format(t = \"warn\"))"
   ]
  },
  {
   "cell_type": "markdown",
   "metadata": {},
   "source": [
    "## B. Setup log from configuration file"
   ]
  },
  {
   "cell_type": "markdown",
   "metadata": {},
   "source": [
    "### 1. yaml format 'logging.conf' that logs to console and file :"
   ]
  },
  {
   "cell_type": "markdown",
   "metadata": {},
   "source": [
    "```\n",
    "version: 1\n",
    "\n",
    "formatters:\n",
    "    simpleFormater:\n",
    "        format: '[%(asctime)s] - %(levelname)-8s: %(message)s'\n",
    "        #format: '%(asctime)s - %(name)s  [%(levelname)s]: %(message)s'\n",
    "        #format: '[%(levelname)s]: %(message)s'\n",
    "        #format: '%(asctime)s - %(levelname)s: %(message)s'\n",
    "        datefmt: '%Y/%m/%d %H:%M:%S'\n",
    "\n",
    "handlers:\n",
    "    console:\n",
    "        class: logging.StreamHandler\n",
    "        formatter: simpleFormater\n",
    "        level: DEBUG\n",
    "        stream: ext://sys.stdout\n",
    "    file:\n",
    "        class : logging.FileHandler\n",
    "        formatter: simpleFormater\n",
    "        level: DEBUG\n",
    "        filename: log.log # will be replaced in code\n",
    "        mode: w\n",
    "\n",
    "loggers:\n",
    "    clogger:\n",
    "        level: DEBUG\n",
    "        handlers: [console]\n",
    "    flogger:\n",
    "        level: WARNING\n",
    "        handlers: [file]\n",
    "\n",
    "root:\n",
    "    level: DEBUG\n",
    "    handlers: [console, file]logging.config.dictConfig(file_conf)\n",
    "```"
   ]
  },
  {
   "cell_type": "markdown",
   "metadata": {},
   "source": [
    "### 2. Script setup"
   ]
  },
  {
   "cell_type": "code",
   "execution_count": 4,
   "metadata": {
    "collapsed": false
   },
   "outputs": [],
   "source": [
    "import logging\n",
    "import logging.config\n",
    "import yaml\n",
    "\n",
    "# load configuration file\n",
    "file_conf = yaml.load(open('logging.conf', 'r'))\n",
    "\n",
    "# setup log file\n",
    "\n",
    "#For changing log filename and location..\n",
    "#current_file =  os.path.basename(sys.argv[0]) \n",
    "#log_file = os.path.join(main_path, \"logs\", \"log_{file_name}.log\".format(file_name = current_file.split(\".\")[0]))\n",
    "#file_conf['handlers']['file']['filename'] = log_file\n",
    "\n",
    "# setup log\n",
    "logging.config.dictConfig(file_conf)\n",
    "logger = logging.getLogger()\n"
   ]
  },
  {
   "cell_type": "markdown",
   "metadata": {},
   "source": [
    "### 3. Sample Log"
   ]
  },
  {
   "cell_type": "code",
   "execution_count": 5,
   "metadata": {
    "collapsed": false
   },
   "outputs": [
    {
     "name": "stdout",
     "output_type": "stream",
     "text": [
      "[2016/05/12 23:21:40] - INFO    : \n",
      "-------------------------------Step 0: Check Data-------------------------------\n",
      "[2016/05/12 23:21:40] - ERROR   : Sample Table first 10 rows:\n",
      "          A         B         C         D\n",
      "0 -1.561473  2.303540  0.372304 -1.011248\n",
      "1  0.090012 -0.950336  0.960980 -0.740591\n",
      "2  0.802997 -1.049910 -0.673451 -0.592274\n",
      "3 -1.079234 -1.198446 -0.830812  0.152827\n",
      "4  0.109731  0.251950  0.033330 -1.084527\n",
      "5 -0.276800  1.233542  1.126588 -0.439015\n",
      "6  0.655365  1.586773 -0.446141 -0.038849\n",
      "7 -0.769670 -0.241647 -1.648059 -1.064762\n",
      "8  0.280574  0.036169  0.790857  0.344991\n",
      "9  0.215693 -0.763703 -1.174372  1.023268\n"
     ]
    }
   ],
   "source": [
    "import pandas as pd\n",
    "import numpy as np\n",
    "df = pd.DataFrame(np.random.randn(50, 4), columns=list('ABCD'))\n",
    "\n",
    "logger.info(\"\\n{head:-^80}\".format(head = \"Step 0: Check Data\" ))\n",
    "\n",
    "\n",
    "with pd.option_context('display.max_rows', 999, 'display.width', 0):\n",
    "    logger.error(\"Sample Table first 10 rows:\\n{table}\".format(table = df[:10])) "
   ]
  },
  {
   "cell_type": "markdown",
   "metadata": {},
   "source": [
    "## References\n",
    "\n",
    "* http://victorlin.me/posts/2012/08/26/good-logging-practice-in-python\n",
    "* http://www.blog.pythonlibrary.org/2012/08/02/python-101-an-intro-to-logging/\n",
    "* http://www.blog.pythonlibrary.org/2014/02/11/python-how-to-create-rotating-logs/\n",
    "* http://stackoverflow.com/questions/15727420/using-python-logging-in-multiple-modules\n",
    "* https://docs.python.org/2/library/logging.html\n",
    "* https://docs.python.org/3.2/howto/logging.html#logging-basic-tutorial\n",
    "* https://docs.python.org/3.2/howto/logging.html#advanced-logging-tutorial\n",
    "* https://docs.python.org/3.2/library/logging.config.html#logging-config-api\n",
    "* http://stackoverflow.com/questions/10519392/python2-7-logging-configuration-with-yaml\n",
    "\n",
    "Example yaml: https://gist.github.com/glenfant/4358668"
   ]
  }
 ],
 "metadata": {
  "kernelspec": {
   "display_name": "Python 3",
   "language": "python",
   "name": "python3"
  },
  "language_info": {
   "codemirror_mode": {
    "name": "ipython",
    "version": 3
   },
   "file_extension": ".py",
   "mimetype": "text/x-python",
   "name": "python",
   "nbconvert_exporter": "python",
   "pygments_lexer": "ipython3",
   "version": "3.4.4"
  }
 },
 "nbformat": 4,
 "nbformat_minor": 0
}
