{
 "cells": [
  {
   "cell_type": "markdown",
   "metadata": {},
   "source": [
    "# Computing Distance"
   ]
  },
  {
   "cell_type": "markdown",
   "metadata": {},
   "source": [
    "## Import"
   ]
  },
  {
   "cell_type": "code",
   "execution_count": 1,
   "metadata": {
    "collapsed": false
   },
   "outputs": [],
   "source": [
    "import os\n",
    "import pandas as pd\n",
    "import itertools\n",
    "import numpy as np\n",
    "from functions.geoutilities import computeHaversine, computeHaversineVector"
   ]
  },
  {
   "cell_type": "markdown",
   "metadata": {},
   "source": [
    "## Load Data"
   ]
  },
  {
   "cell_type": "code",
   "execution_count": 2,
   "metadata": {
    "collapsed": false
   },
   "outputs": [
    {
     "data": {
      "text/html": [
       "<div>\n",
       "<table border=\"1\" class=\"dataframe\">\n",
       "  <thead>\n",
       "    <tr style=\"text-align: right;\">\n",
       "      <th></th>\n",
       "      <th>zip</th>\n",
       "      <th>city</th>\n",
       "      <th>state</th>\n",
       "      <th>latitude</th>\n",
       "      <th>longitude</th>\n",
       "      <th>timezone</th>\n",
       "      <th>dst</th>\n",
       "    </tr>\n",
       "  </thead>\n",
       "  <tbody>\n",
       "    <tr>\n",
       "      <th>0</th>\n",
       "      <td>210</td>\n",
       "      <td>Portsmouth</td>\n",
       "      <td>NH</td>\n",
       "      <td>43.005895</td>\n",
       "      <td>-71.013202</td>\n",
       "      <td>-5</td>\n",
       "      <td>1</td>\n",
       "    </tr>\n",
       "    <tr>\n",
       "      <th>1</th>\n",
       "      <td>211</td>\n",
       "      <td>Portsmouth</td>\n",
       "      <td>NH</td>\n",
       "      <td>43.005895</td>\n",
       "      <td>-71.013202</td>\n",
       "      <td>-5</td>\n",
       "      <td>1</td>\n",
       "    </tr>\n",
       "    <tr>\n",
       "      <th>2</th>\n",
       "      <td>212</td>\n",
       "      <td>Portsmouth</td>\n",
       "      <td>NH</td>\n",
       "      <td>43.005895</td>\n",
       "      <td>-71.013202</td>\n",
       "      <td>-5</td>\n",
       "      <td>1</td>\n",
       "    </tr>\n",
       "    <tr>\n",
       "      <th>3</th>\n",
       "      <td>213</td>\n",
       "      <td>Portsmouth</td>\n",
       "      <td>NH</td>\n",
       "      <td>43.005895</td>\n",
       "      <td>-71.013202</td>\n",
       "      <td>-5</td>\n",
       "      <td>1</td>\n",
       "    </tr>\n",
       "    <tr>\n",
       "      <th>4</th>\n",
       "      <td>214</td>\n",
       "      <td>Portsmouth</td>\n",
       "      <td>NH</td>\n",
       "      <td>43.005895</td>\n",
       "      <td>-71.013202</td>\n",
       "      <td>-5</td>\n",
       "      <td>1</td>\n",
       "    </tr>\n",
       "    <tr>\n",
       "      <th>5</th>\n",
       "      <td>215</td>\n",
       "      <td>Portsmouth</td>\n",
       "      <td>NH</td>\n",
       "      <td>43.005895</td>\n",
       "      <td>-71.013202</td>\n",
       "      <td>-5</td>\n",
       "      <td>1</td>\n",
       "    </tr>\n",
       "    <tr>\n",
       "      <th>6</th>\n",
       "      <td>501</td>\n",
       "      <td>Holtsville</td>\n",
       "      <td>NY</td>\n",
       "      <td>40.922326</td>\n",
       "      <td>-72.637078</td>\n",
       "      <td>-5</td>\n",
       "      <td>1</td>\n",
       "    </tr>\n",
       "    <tr>\n",
       "      <th>7</th>\n",
       "      <td>544</td>\n",
       "      <td>Holtsville</td>\n",
       "      <td>NY</td>\n",
       "      <td>40.922326</td>\n",
       "      <td>-72.637078</td>\n",
       "      <td>-5</td>\n",
       "      <td>1</td>\n",
       "    </tr>\n",
       "    <tr>\n",
       "      <th>8</th>\n",
       "      <td>601</td>\n",
       "      <td>Adjuntas</td>\n",
       "      <td>PR</td>\n",
       "      <td>18.180103</td>\n",
       "      <td>-66.749470</td>\n",
       "      <td>-4</td>\n",
       "      <td>0</td>\n",
       "    </tr>\n",
       "    <tr>\n",
       "      <th>9</th>\n",
       "      <td>602</td>\n",
       "      <td>Aguada</td>\n",
       "      <td>PR</td>\n",
       "      <td>18.363285</td>\n",
       "      <td>-67.180240</td>\n",
       "      <td>-4</td>\n",
       "      <td>0</td>\n",
       "    </tr>\n",
       "  </tbody>\n",
       "</table>\n",
       "</div>"
      ],
      "text/plain": [
       "   zip        city state   latitude  longitude  timezone  dst\n",
       "0  210  Portsmouth    NH  43.005895 -71.013202        -5    1\n",
       "1  211  Portsmouth    NH  43.005895 -71.013202        -5    1\n",
       "2  212  Portsmouth    NH  43.005895 -71.013202        -5    1\n",
       "3  213  Portsmouth    NH  43.005895 -71.013202        -5    1\n",
       "4  214  Portsmouth    NH  43.005895 -71.013202        -5    1\n",
       "5  215  Portsmouth    NH  43.005895 -71.013202        -5    1\n",
       "6  501  Holtsville    NY  40.922326 -72.637078        -5    1\n",
       "7  544  Holtsville    NY  40.922326 -72.637078        -5    1\n",
       "8  601    Adjuntas    PR  18.180103 -66.749470        -4    0\n",
       "9  602      Aguada    PR  18.363285 -67.180240        -4    0"
      ]
     },
     "execution_count": 2,
     "metadata": {},
     "output_type": "execute_result"
    }
   ],
   "source": [
    "main_path = 'inputs'\n",
    "file_path = os.path.join(main_path, 'zipcodes.csv')\n",
    "zipcodes = pd.read_csv(file_path)\n",
    "zipcodes.head(10)"
   ]
  },
  {
   "cell_type": "markdown",
   "metadata": {},
   "source": [
    "Filter some citis"
   ]
  },
  {
   "cell_type": "code",
   "execution_count": 3,
   "metadata": {
    "collapsed": false
   },
   "outputs": [
    {
     "data": {
      "text/html": [
       "<div>\n",
       "<table border=\"1\" class=\"dataframe\">\n",
       "  <thead>\n",
       "    <tr style=\"text-align: right;\">\n",
       "      <th></th>\n",
       "      <th>city</th>\n",
       "      <th>latitude</th>\n",
       "      <th>longitude</th>\n",
       "    </tr>\n",
       "  </thead>\n",
       "  <tbody>\n",
       "    <tr>\n",
       "      <th>3443</th>\n",
       "      <td>New York</td>\n",
       "      <td>40.750742</td>\n",
       "      <td>-73.99653</td>\n",
       "    </tr>\n",
       "    <tr>\n",
       "      <th>27062</th>\n",
       "      <td>Chicago</td>\n",
       "      <td>41.886456</td>\n",
       "      <td>-87.62325</td>\n",
       "    </tr>\n",
       "    <tr>\n",
       "      <th>38821</th>\n",
       "      <td>Los Angeles</td>\n",
       "      <td>33.972914</td>\n",
       "      <td>-118.24878</td>\n",
       "    </tr>\n",
       "  </tbody>\n",
       "</table>\n",
       "</div>"
      ],
      "text/plain": [
       "              city   latitude  longitude\n",
       "3443      New York  40.750742  -73.99653\n",
       "27062      Chicago  41.886456  -87.62325\n",
       "38821  Los Angeles  33.972914 -118.24878"
      ]
     },
     "execution_count": 3,
     "metadata": {},
     "output_type": "execute_result"
    }
   ],
   "source": [
    "# filter\n",
    "cities = (\"Chicago\", \"Los Angeles\", \"New York\")\n",
    "rows_cities = zipcodes['city'].map(lambda x: x in cities )\n",
    "df_cities = zipcodes.loc[rows_cities,['city', 'latitude','longitude'] ]\n",
    "\n",
    "# remove duplicates\n",
    "df_cities.drop_duplicates(subset = ['city'], keep = 'first', inplace = True)\n",
    "df_cities.head(10)"
   ]
  },
  {
   "cell_type": "markdown",
   "metadata": {},
   "source": [
    "Create all possible 2-pair combinations of cities to compute distance"
   ]
  },
  {
   "cell_type": "code",
   "execution_count": 4,
   "metadata": {
    "collapsed": false
   },
   "outputs": [
    {
     "data": {
      "text/html": [
       "<div>\n",
       "<table border=\"1\" class=\"dataframe\">\n",
       "  <thead>\n",
       "    <tr style=\"text-align: right;\">\n",
       "      <th></th>\n",
       "      <th>city1</th>\n",
       "      <th>city2</th>\n",
       "    </tr>\n",
       "  </thead>\n",
       "  <tbody>\n",
       "    <tr>\n",
       "      <th>0</th>\n",
       "      <td>New York</td>\n",
       "      <td>Chicago</td>\n",
       "    </tr>\n",
       "    <tr>\n",
       "      <th>1</th>\n",
       "      <td>New York</td>\n",
       "      <td>Los Angeles</td>\n",
       "    </tr>\n",
       "    <tr>\n",
       "      <th>2</th>\n",
       "      <td>Chicago</td>\n",
       "      <td>Los Angeles</td>\n",
       "    </tr>\n",
       "  </tbody>\n",
       "</table>\n",
       "</div>"
      ],
      "text/plain": [
       "      city1        city2\n",
       "0  New York      Chicago\n",
       "1  New York  Los Angeles\n",
       "2   Chicago  Los Angeles"
      ]
     },
     "execution_count": 4,
     "metadata": {},
     "output_type": "execute_result"
    }
   ],
   "source": [
    "combo = itertools.combinations(df_cities['city'], 2) # iterator with tuples\n",
    "city1, city2 = zip(*combo) # unzip\n",
    "df_dist = pd.DataFrame({\"city1\": city1, \"city2\": city2})\n",
    "df_dist.head(10)"
   ]
  },
  {
   "cell_type": "markdown",
   "metadata": {},
   "source": [
    "Add lat/long and compute distance"
   ]
  },
  {
   "cell_type": "code",
   "execution_count": 5,
   "metadata": {
    "collapsed": false
   },
   "outputs": [
    {
     "data": {
      "text/html": [
       "<div>\n",
       "<table border=\"1\" class=\"dataframe\">\n",
       "  <thead>\n",
       "    <tr style=\"text-align: right;\">\n",
       "      <th></th>\n",
       "      <th>city1</th>\n",
       "      <th>city2</th>\n",
       "      <th>latitude1</th>\n",
       "      <th>longitude1</th>\n",
       "      <th>latitude2</th>\n",
       "      <th>longitude2</th>\n",
       "    </tr>\n",
       "  </thead>\n",
       "  <tbody>\n",
       "    <tr>\n",
       "      <th>0</th>\n",
       "      <td>New York</td>\n",
       "      <td>Chicago</td>\n",
       "      <td>40.750742</td>\n",
       "      <td>-73.99653</td>\n",
       "      <td>41.886456</td>\n",
       "      <td>-87.62325</td>\n",
       "    </tr>\n",
       "    <tr>\n",
       "      <th>1</th>\n",
       "      <td>New York</td>\n",
       "      <td>Los Angeles</td>\n",
       "      <td>40.750742</td>\n",
       "      <td>-73.99653</td>\n",
       "      <td>33.972914</td>\n",
       "      <td>-118.24878</td>\n",
       "    </tr>\n",
       "    <tr>\n",
       "      <th>2</th>\n",
       "      <td>Chicago</td>\n",
       "      <td>Los Angeles</td>\n",
       "      <td>41.886456</td>\n",
       "      <td>-87.62325</td>\n",
       "      <td>33.972914</td>\n",
       "      <td>-118.24878</td>\n",
       "    </tr>\n",
       "  </tbody>\n",
       "</table>\n",
       "</div>"
      ],
      "text/plain": [
       "      city1        city2  latitude1  longitude1  latitude2  longitude2\n",
       "0  New York      Chicago  40.750742   -73.99653  41.886456   -87.62325\n",
       "1  New York  Los Angeles  40.750742   -73.99653  33.972914  -118.24878\n",
       "2   Chicago  Los Angeles  41.886456   -87.62325  33.972914  -118.24878"
      ]
     },
     "execution_count": 5,
     "metadata": {},
     "output_type": "execute_result"
    }
   ],
   "source": [
    "df_dist = df_dist.merge(df_cities, how = 'left', left_on = 'city1', right_on = 'city' )\n",
    "df_dist.drop([\"city\"], axis = 1, inplace = True)\n",
    "df_dist = df_dist.merge(df_cities, how = 'left', left_on = 'city2', right_on = 'city', suffixes = ('1','2'))\n",
    "df_dist.drop([\"city\"], axis = 1, inplace = True)\n",
    "df_dist.head(10)"
   ]
  },
  {
   "cell_type": "markdown",
   "metadata": {},
   "source": [
    "Compute distance"
   ]
  },
  {
   "cell_type": "code",
   "execution_count": 6,
   "metadata": {
    "collapsed": false
   },
   "outputs": [
    {
     "data": {
      "text/html": [
       "<div>\n",
       "<table border=\"1\" class=\"dataframe\">\n",
       "  <thead>\n",
       "    <tr style=\"text-align: right;\">\n",
       "      <th></th>\n",
       "      <th>city1</th>\n",
       "      <th>city2</th>\n",
       "      <th>latitude1</th>\n",
       "      <th>longitude1</th>\n",
       "      <th>latitude2</th>\n",
       "      <th>longitude2</th>\n",
       "      <th>distance</th>\n",
       "    </tr>\n",
       "  </thead>\n",
       "  <tbody>\n",
       "    <tr>\n",
       "      <th>0</th>\n",
       "      <td>New York</td>\n",
       "      <td>Chicago</td>\n",
       "      <td>40.750742</td>\n",
       "      <td>-73.99653</td>\n",
       "      <td>41.886456</td>\n",
       "      <td>-87.62325</td>\n",
       "      <td>710.747081</td>\n",
       "    </tr>\n",
       "    <tr>\n",
       "      <th>1</th>\n",
       "      <td>New York</td>\n",
       "      <td>Los Angeles</td>\n",
       "      <td>40.750742</td>\n",
       "      <td>-73.99653</td>\n",
       "      <td>33.972914</td>\n",
       "      <td>-118.24878</td>\n",
       "      <td>2448.548498</td>\n",
       "    </tr>\n",
       "    <tr>\n",
       "      <th>2</th>\n",
       "      <td>Chicago</td>\n",
       "      <td>Los Angeles</td>\n",
       "      <td>41.886456</td>\n",
       "      <td>-87.62325</td>\n",
       "      <td>33.972914</td>\n",
       "      <td>-118.24878</td>\n",
       "      <td>1745.593110</td>\n",
       "    </tr>\n",
       "  </tbody>\n",
       "</table>\n",
       "</div>"
      ],
      "text/plain": [
       "      city1        city2  latitude1  longitude1  latitude2  longitude2  \\\n",
       "0  New York      Chicago  40.750742   -73.99653  41.886456   -87.62325   \n",
       "1  New York  Los Angeles  40.750742   -73.99653  33.972914  -118.24878   \n",
       "2   Chicago  Los Angeles  41.886456   -87.62325  33.972914  -118.24878   \n",
       "\n",
       "      distance  \n",
       "0   710.747081  \n",
       "1  2448.548498  \n",
       "2  1745.593110  "
      ]
     },
     "execution_count": 6,
     "metadata": {},
     "output_type": "execute_result"
    }
   ],
   "source": [
    "df_dist['distance'] = df_dist.apply(lambda x: \n",
    "                                    computeHaversine(x['latitude1'], x['longitude1'], x['latitude2'], x['longitude2']), axis = 1)\n",
    "df_dist.head(10)"
   ]
  },
  {
   "cell_type": "markdown",
   "metadata": {},
   "source": [
    "Compute distance using vectorized function"
   ]
  },
  {
   "cell_type": "code",
   "execution_count": 7,
   "metadata": {
    "collapsed": false
   },
   "outputs": [
    {
     "data": {
      "text/html": [
       "<div>\n",
       "<table border=\"1\" class=\"dataframe\">\n",
       "  <thead>\n",
       "    <tr style=\"text-align: right;\">\n",
       "      <th></th>\n",
       "      <th>city1</th>\n",
       "      <th>city2</th>\n",
       "      <th>latitude1</th>\n",
       "      <th>longitude1</th>\n",
       "      <th>latitude2</th>\n",
       "      <th>longitude2</th>\n",
       "      <th>distance</th>\n",
       "      <th>distance2</th>\n",
       "    </tr>\n",
       "  </thead>\n",
       "  <tbody>\n",
       "    <tr>\n",
       "      <th>0</th>\n",
       "      <td>New York</td>\n",
       "      <td>Chicago</td>\n",
       "      <td>40.750742</td>\n",
       "      <td>-73.99653</td>\n",
       "      <td>41.886456</td>\n",
       "      <td>-87.62325</td>\n",
       "      <td>710.747081</td>\n",
       "      <td>710.747081</td>\n",
       "    </tr>\n",
       "    <tr>\n",
       "      <th>1</th>\n",
       "      <td>New York</td>\n",
       "      <td>Los Angeles</td>\n",
       "      <td>40.750742</td>\n",
       "      <td>-73.99653</td>\n",
       "      <td>33.972914</td>\n",
       "      <td>-118.24878</td>\n",
       "      <td>2448.548498</td>\n",
       "      <td>2448.548498</td>\n",
       "    </tr>\n",
       "    <tr>\n",
       "      <th>2</th>\n",
       "      <td>Chicago</td>\n",
       "      <td>Los Angeles</td>\n",
       "      <td>41.886456</td>\n",
       "      <td>-87.62325</td>\n",
       "      <td>33.972914</td>\n",
       "      <td>-118.24878</td>\n",
       "      <td>1745.593110</td>\n",
       "      <td>1745.593110</td>\n",
       "    </tr>\n",
       "  </tbody>\n",
       "</table>\n",
       "</div>"
      ],
      "text/plain": [
       "      city1        city2  latitude1  longitude1  latitude2  longitude2  \\\n",
       "0  New York      Chicago  40.750742   -73.99653  41.886456   -87.62325   \n",
       "1  New York  Los Angeles  40.750742   -73.99653  33.972914  -118.24878   \n",
       "2   Chicago  Los Angeles  41.886456   -87.62325  33.972914  -118.24878   \n",
       "\n",
       "      distance    distance2  \n",
       "0   710.747081   710.747081  \n",
       "1  2448.548498  2448.548498  \n",
       "2  1745.593110  1745.593110  "
      ]
     },
     "execution_count": 7,
     "metadata": {},
     "output_type": "execute_result"
    }
   ],
   "source": [
    "df_dist['distance2'] = computeHaversineVector(df_dist['latitude1'], df_dist['longitude1'], df_dist['latitude2'], df_dist['longitude2'])\n",
    "df_dist.head(10)\n"
   ]
  }
 ],
 "metadata": {
  "kernelspec": {
   "display_name": "Python 3",
   "language": "python",
   "name": "python3"
  },
  "language_info": {
   "codemirror_mode": {
    "name": "ipython",
    "version": 3
   },
   "file_extension": ".py",
   "mimetype": "text/x-python",
   "name": "python",
   "nbconvert_exporter": "python",
   "pygments_lexer": "ipython3",
   "version": "3.4.4"
  }
 },
 "nbformat": 4,
 "nbformat_minor": 0
}
